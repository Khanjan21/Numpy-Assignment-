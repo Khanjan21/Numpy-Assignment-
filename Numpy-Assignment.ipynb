{
 "cells": [
  {
   "cell_type": "code",
   "execution_count": 6,
   "id": "f8f563a8-f822-43bc-8751-e4653085ebb3",
   "metadata": {},
   "outputs": [],
   "source": [
    "#Theoretical Questions:"
   ]
  },
  {
   "cell_type": "code",
   "execution_count": 1,
   "id": "39624f7e-7819-4c23-a085-e295303b6e41",
   "metadata": {},
   "outputs": [
    {
     "data": {
      "text/plain": [
       "'\\n1)Purpose of NumPy in Scientific Computing and Data Analysis\\nEfficient Data Handling: NumPy provides the ndarray, an n-dimensional array object that is more efficient than Python’s built-in data structures like lists. It allows for the storage and manipulation of large datasets with minimal memory overhead.\\n\\nMathematical Operations: NumPy offers a vast array of mathematical functions to perform operations on arrays, such as linear algebra, statistical operations, Fourier transformations, and more. These functions are optimized for performance, making them faster than standard Python operations.\\n\\nInterfacing with C/C++ and Fortran: NumPy can interface with C, C++, and Fortran, enabling the reuse of existing scientific libraries and making it easier to write high-performance code.\\n\\nFoundational Library: NumPy serves as the foundation for many other scientific libraries in Python, such as SciPy, pandas, and scikit-learn. It provides the base data structures and functions on which these libraries build.\\n\\n\\n\\n\\n2)Advantages of NumPy\\n\\nSpeed and Performance:\\n\\nVectorization: NumPy performs operations on entire arrays rather than individual elements, which is known as vectorization. This reduces the need for loops and results in more concise and readable code, as well as significant performance improvements.\\nOptimized C Implementation: Many of NumPy’s operations are implemented in C, which is compiled and highly optimized. This makes NumPy operations much faster than equivalent operations in pure Python.\\nMemory Efficiency:\\n\\nCompact Data Types: NumPy arrays are more compact than Python lists because they use less memory to store the same amount of data. This efficiency is particularly important when working with large datasets.\\nContiguous Memory Layout: NumPy arrays are stored in contiguous blocks of memory, which enhances performance by allowing for more efficient data access and manipulation.\\nBroadcasting:\\n\\nFlexible Operations: NumPy’s broadcasting allows operations on arrays of different shapes and sizes without the need to explicitly reshape them. This simplifies the code and avoids the overhead of creating additional data structures.\\nComprehensive Functionality:\\n\\nMathematical Functions: NumPy provides a wide range of mathematical functions, including trigonometric, exponential, and logarithmic functions, as well as linear algebra and random number generation.\\nIntegration with Other Libraries: As a core library, NumPy seamlessly integrates with other Python libraries used in data science, such as pandas for data manipulation, Matplotlib for plotting, and TensorFlow for machine learning.\\nEase of Use and Accessibility:\\n\\nHigh-level Syntax: NumPy’s syntax is relatively simple and intuitive, making it accessible for users who may not have extensive programming experience.\\nCommunity and Ecosystem: NumPy has a large and active community, with extensive documentation and a rich ecosystem of related tools and libraries.\\n\\n\\n\\n3)Enhancing Python’s Capabilities\\nPython, by itself, is an interpreted language and is not designed for high-performance numerical computing. NumPy bridges this gap by providing efficient array operations, enabling Python to handle large-scale numerical data and perform complex computations at high speed. This makes Python a viable tool for scientific computing, data analysis, and machine learning.\\n'"
      ]
     },
     "execution_count": 1,
     "metadata": {},
     "output_type": "execute_result"
    }
   ],
   "source": [
    "#1. Explain the purpose and advantages of NumPy in scientific computing and data analysis. How does it enhance Python's capabilities for numerical operations?\n",
    "'''\n",
    "1)Purpose of NumPy in Scientific Computing and Data Analysis\n",
    "Efficient Data Handling: NumPy provides the ndarray, an n-dimensional array object that is more efficient than Python’s built-in data structures like lists. It allows for the storage and manipulation of large datasets with minimal memory overhead.\n",
    "\n",
    "Mathematical Operations: NumPy offers a vast array of mathematical functions to perform operations on arrays, such as linear algebra, statistical operations, Fourier transformations, and more. These functions are optimized for performance, making them faster than standard Python operations.\n",
    "\n",
    "Interfacing with C/C++ and Fortran: NumPy can interface with C, C++, and Fortran, enabling the reuse of existing scientific libraries and making it easier to write high-performance code.\n",
    "\n",
    "Foundational Library: NumPy serves as the foundation for many other scientific libraries in Python, such as SciPy, pandas, and scikit-learn. It provides the base data structures and functions on which these libraries build.\n",
    "\n",
    "\n",
    "\n",
    "\n",
    "2)Advantages of NumPy\n",
    "\n",
    "Speed and Performance:\n",
    "\n",
    "Vectorization: NumPy performs operations on entire arrays rather than individual elements, which is known as vectorization. This reduces the need for loops and results in more concise and readable code, as well as significant performance improvements.\n",
    "Optimized C Implementation: Many of NumPy’s operations are implemented in C, which is compiled and highly optimized. This makes NumPy operations much faster than equivalent operations in pure Python.\n",
    "Memory Efficiency:\n",
    "\n",
    "Compact Data Types: NumPy arrays are more compact than Python lists because they use less memory to store the same amount of data. This efficiency is particularly important when working with large datasets.\n",
    "Contiguous Memory Layout: NumPy arrays are stored in contiguous blocks of memory, which enhances performance by allowing for more efficient data access and manipulation.\n",
    "Broadcasting:\n",
    "\n",
    "Flexible Operations: NumPy’s broadcasting allows operations on arrays of different shapes and sizes without the need to explicitly reshape them. This simplifies the code and avoids the overhead of creating additional data structures.\n",
    "Comprehensive Functionality:\n",
    "\n",
    "Mathematical Functions: NumPy provides a wide range of mathematical functions, including trigonometric, exponential, and logarithmic functions, as well as linear algebra and random number generation.\n",
    "Integration with Other Libraries: As a core library, NumPy seamlessly integrates with other Python libraries used in data science, such as pandas for data manipulation, Matplotlib for plotting, and TensorFlow for machine learning.\n",
    "Ease of Use and Accessibility:\n",
    "\n",
    "High-level Syntax: NumPy’s syntax is relatively simple and intuitive, making it accessible for users who may not have extensive programming experience.\n",
    "Community and Ecosystem: NumPy has a large and active community, with extensive documentation and a rich ecosystem of related tools and libraries.\n",
    "\n",
    "\n",
    "\n",
    "3)Enhancing Python’s Capabilities\n",
    "Python, by itself, is an interpreted language and is not designed for high-performance numerical computing. NumPy bridges this gap by providing efficient array operations, enabling Python to handle large-scale numerical data and perform complex computations at high speed. This makes Python a viable tool for scientific computing, data analysis, and machine learning.\n",
    "'''"
   ]
  },
  {
   "cell_type": "code",
   "execution_count": 2,
   "id": "4fe03e4d-7c2a-49a3-adf6-3e0e9038b3ca",
   "metadata": {},
   "outputs": [
    {
     "data": {
      "text/plain": [
       "'\\n1)np.mean():\\n\\nPurpose: Calculates the arithmetic mean (average) of the elements along a specified axis of an array. If no axis is specified, it computes the mean of the entire array.\\nSyntax: np.mean(array, axis=None, dtype=None, out=None, keepdims=False)\\nUsage: np.mean() is straightforward and is typically used when you want to calculate the average of an array without considering weights.\\nnp.average():\\n\\nPurpose: Calculates the weighted average of the elements along a specified axis of an array. If weights are not provided, it defaults to calculating the arithmetic mean, similar to np.mean().\\nSyntax: np.average(array, axis=None, weights=None, returned=False)\\nUsage: np.average() is used when you need to compute a weighted average, where each element in the array may have a different level of importance or contribution.\\n\\n\\n2)When to Use:\\n\\nUse np.mean() when you need a simple average of all elements or along a particular axis.\\nUse np.average() when you need to account for weights and calculate a weighted average.\\n'"
      ]
     },
     "execution_count": 2,
     "metadata": {},
     "output_type": "execute_result"
    }
   ],
   "source": [
    "#2. Compare and contrast np.mean() and np.average() functions in NumPy. When would you use one over the other?\n",
    "'''\n",
    "1)np.mean():\n",
    "\n",
    "Purpose: Calculates the arithmetic mean (average) of the elements along a specified axis of an array. If no axis is specified, it computes the mean of the entire array.\n",
    "Syntax: np.mean(array, axis=None, dtype=None, out=None, keepdims=False)\n",
    "Usage: np.mean() is straightforward and is typically used when you want to calculate the average of an array without considering weights.\n",
    "np.average():\n",
    "\n",
    "Purpose: Calculates the weighted average of the elements along a specified axis of an array. If weights are not provided, it defaults to calculating the arithmetic mean, similar to np.mean().\n",
    "Syntax: np.average(array, axis=None, weights=None, returned=False)\n",
    "Usage: np.average() is used when you need to compute a weighted average, where each element in the array may have a different level of importance or contribution.\n",
    "\n",
    "\n",
    "2)When to Use:\n",
    "\n",
    "Use np.mean() when you need a simple average of all elements or along a particular axis.\n",
    "Use np.average() when you need to account for weights and calculate a weighted average.\n",
    "'''"
   ]
  },
  {
   "cell_type": "code",
   "execution_count": 5,
   "id": "e13d42e2-57a1-4fb4-b001-f041a9e3b208",
   "metadata": {},
   "outputs": [
    {
     "name": "stdout",
     "output_type": "stream",
     "text": [
      "[5 4 3 2 1]\n",
      "[[1 2 3]\n",
      " [4 5 6]]\n",
      "[[4 5 6]\n",
      " [1 2 3]]\n",
      "[[3 2 1]\n",
      " [6 5 4]]\n",
      "[[6 5 4]\n",
      " [3 2 1]]\n"
     ]
    }
   ],
   "source": [
    "#3) 3. Describe the methods for reversing a NumPy array along different axes. Provide examples for 1D and 2D arrays.\n",
    "'''\n",
    "Reversing a NumPy Array Along Different Axes\n",
    "1D Array: To reverse a 1D array, you can use slicing with [::-1].\n",
    "2D Array: For reversing along different axes, you can use slicing or specific functions like np.flip.\n",
    "'''\n",
    "#Examples:\n",
    "\n",
    "import numpy as np\n",
    "\n",
    "# 1D array\n",
    "arr_1d = np.array([1, 2, 3, 4, 5])\n",
    "reversed_1d = arr_1d[::-1]   \n",
    "print(reversed_1d)\n",
    "\n",
    "# 2D array\n",
    "arr_2d = np.array([[1, 2, 3], [4, 5, 6]])\n",
    "print(arr_2d)\n",
    "\n",
    "# Reverse along the first axis (rows)\n",
    "reversed_2d_rows = arr_2d[::-1, :]  \n",
    "print(reversed_2d_rows)\n",
    "\n",
    "# Reverse along the second axis (columns)\n",
    "reversed_2d_columns = arr_2d[:, ::-1] \n",
    "print(reversed_2d_columns)\n",
    "\n",
    "# Reverse both axes\n",
    "reversed_2d_both = arr_2d[::-1, ::-1] \n",
    "print(reversed_2d_both)\n"
   ]
  },
  {
   "cell_type": "code",
   "execution_count": 7,
   "id": "6d8b520e-b790-4ad0-aafe-f13b66dbf77c",
   "metadata": {},
   "outputs": [
    {
     "name": "stdout",
     "output_type": "stream",
     "text": [
      "int64\n"
     ]
    },
    {
     "data": {
      "text/plain": [
       "'\\nImportance of Data Types:\\n\\nMemory Management: Different data types occupy different amounts of memory. Choosing the appropriate data type can save memory, especially when working with large datasets.\\nPerformance: NumPy operations are optimized based on the data type. Using smaller or appropriate data types can enhance computation speed and efficiency.\\n'"
      ]
     },
     "execution_count": 7,
     "metadata": {},
     "output_type": "execute_result"
    }
   ],
   "source": [
    "#4) How can you determine the data type of elements in a NumPy array? Discuss the importance of data types in memory management and performance.\n",
    "'''\n",
    "Determining the Data Type of Elements in a NumPy Array\n",
    "Method: Use the .dtype attribute to determine the data type of the elements in a NumPy array.\n",
    "'''\n",
    "import numpy as np\n",
    "\n",
    "arr = np.array([1, 2, 3])\n",
    "dtype = arr.dtype \n",
    "print(dtype)\n",
    "\n",
    "'''\n",
    "Importance of Data Types:\n",
    "\n",
    "Memory Management: Different data types occupy different amounts of memory. Choosing the appropriate data type can save memory, especially when working with large datasets.\n",
    "Performance: NumPy operations are optimized based on the data type. Using smaller or appropriate data types can enhance computation speed and efficiency.\n",
    "'''"
   ]
  },
  {
   "cell_type": "code",
   "execution_count": 8,
   "id": "8fb8cdcd-5034-430a-954f-1bbaa9a5c48c",
   "metadata": {},
   "outputs": [
    {
     "data": {
      "text/plain": [
       "'\\nndarray:\\n\\n-->An ndarray (n-dimensional array) is a versatile array object in NumPy that can hold items of the same type and supports efficient operations on large datasets.\\n->Key Features:\\nHomogeneous: All elements are of the same data type.\\nEfficient Memory Layout: Stored in contiguous blocks of memory.\\nVectorized Operations: Supports element-wise operations without the need for explicit loops.\\nSupport for Multidimensional Arrays: Can represent matrices, tensors, and other n-dimensional data structures.\\nDifference from Python Lists:\\n\\n->Efficiency: ndarrays are more memory-efficient and faster for numerical computations compared to Python lists.\\n->Functionality: ndarrays support a wide range of mathematical operations and broadcasting, which are not available for lists.\\n->Fixed Size: ndarrays have a fixed size, whereas lists can dynamically grow or shrink.\\n'"
      ]
     },
     "execution_count": 8,
     "metadata": {},
     "output_type": "execute_result"
    }
   ],
   "source": [
    "#5) Define ndarrays in NumPy and explain their key features. How do they differ from standard Python lists?\n",
    "\n",
    "'''\n",
    "ndarray:\n",
    "\n",
    "-->An ndarray (n-dimensional array) is a versatile array object in NumPy that can hold items of the same type and supports efficient operations on large datasets.\n",
    "->Key Features:\n",
    "Homogeneous: All elements are of the same data type.\n",
    "Efficient Memory Layout: Stored in contiguous blocks of memory.\n",
    "Vectorized Operations: Supports element-wise operations without the need for explicit loops.\n",
    "Support for Multidimensional Arrays: Can represent matrices, tensors, and other n-dimensional data structures.\n",
    "Difference from Python Lists:\n",
    "\n",
    "->Efficiency: ndarrays are more memory-efficient and faster for numerical computations compared to Python lists.\n",
    "->Functionality: ndarrays support a wide range of mathematical operations and broadcasting, which are not available for lists.\n",
    "->Fixed Size: ndarrays have a fixed size, whereas lists can dynamically grow or shrink.\n",
    "'''"
   ]
  },
  {
   "cell_type": "code",
   "execution_count": 9,
   "id": "4cda19e9-398b-4419-b51f-a83e8155b939",
   "metadata": {},
   "outputs": [
    {
     "data": {
      "text/plain": [
       "'\\n1)Performance Benefits of NumPy Arrays Over Python Lists\\n2)Vectorization: NumPy arrays perform operations on entire arrays rather than element-by-element, eliminating the need for loops and speeding up execution.\\n3)Memory Efficiency: NumPy arrays use less memory by storing data more compactly.\\n4)Optimized C Backend: Many NumPy functions are implemented in C, providing significant speed advantages over Python’s built-in functions.\\n5)Contiguous Memory Allocation: Improves cache efficiency, leading to faster access and processing.\\n'"
      ]
     },
     "execution_count": 9,
     "metadata": {},
     "output_type": "execute_result"
    }
   ],
   "source": [
    "#6) Analyze the performance benefits of NumPy arrays over Python lists for large-scale numerical operations\n",
    "'''\n",
    "1)Performance Benefits of NumPy Arrays Over Python Lists\n",
    "2)Vectorization: NumPy arrays perform operations on entire arrays rather than element-by-element, eliminating the need for loops and speeding up execution.\n",
    "3)Memory Efficiency: NumPy arrays use less memory by storing data more compactly.\n",
    "4)Optimized C Backend: Many NumPy functions are implemented in C, providing significant speed advantages over Python’s built-in functions.\n",
    "5)Contiguous Memory Allocation: Improves cache efficiency, leading to faster access and processing.\n",
    "'''"
   ]
  },
  {
   "cell_type": "code",
   "execution_count": 10,
   "id": "38def4b4-6b3a-4934-8f3e-0f87907eb888",
   "metadata": {},
   "outputs": [
    {
     "name": "stdout",
     "output_type": "stream",
     "text": [
      "[[1 2 3]\n",
      " [4 5 6]]\n",
      "[1 2 3 4 5 6]\n"
     ]
    }
   ],
   "source": [
    "#7)  Compare vstack() and hstack() functions in NumPy. Provide examples demonstrating their usage and output.\n",
    "\n",
    "'''\n",
    "Comparing vstack() and hstack() Functions in NumPy\n",
    "\n",
    "1)vstack():\n",
    "\n",
    "Purpose: Vertically stacks arrays (along the first axis).\n",
    "Usage: Useful when you want to stack multiple arrays one on top of the other.\n",
    "'''\n",
    "#Example:\n",
    "\n",
    " \n",
    "arr1 = np.array([1, 2, 3])\n",
    "arr2 = np.array([4, 5, 6])\n",
    "vstacked = np.vstack((arr1, arr2))  # Output: [[1, 2, 3], [4, 5, 6]]\n",
    "print(vstacked)\n",
    "\n",
    "'''\n",
    "2)hstack():\n",
    "\n",
    "Purpose: Horizontally stacks arrays (along the second axis).\n",
    "Usage: Useful when you want to concatenate arrays side by side.\n",
    "'''\n",
    "arr1 = np.array([1, 2, 3])\n",
    "arr2 = np.array([4, 5, 6])\n",
    "hstacked = np.hstack((arr1, arr2))  # Output: [1, 2, 3, 4, 5, 6]\n",
    "print(hstacked)"
   ]
  },
  {
   "cell_type": "code",
   "execution_count": 13,
   "id": "263f15cb-c025-4e02-a267-d83894b7ffd7",
   "metadata": {},
   "outputs": [
    {
     "name": "stdout",
     "output_type": "stream",
     "text": [
      "[[3 2 1]\n",
      " [6 5 4]]\n",
      "[[4 5 6]\n",
      " [1 2 3]]\n"
     ]
    }
   ],
   "source": [
    "#8)  Explain the differences between fliplr() and flipud() methods in NumPy, including their effects on various array dimensions.\n",
    "'''\n",
    "fliplr():\n",
    "\n",
    "Purpose: Flips a 2D array from left to right (i.e., it reverses the order of columns).\n",
    "'''\n",
    "\n",
    "# Example:\n",
    "arr = np.array([[1, 2, 3], [4, 5, 6]])\n",
    "fliplr_arr = np.fliplr(arr)  \n",
    "print(fliplr_arr)\n",
    "    \n",
    "'''\n",
    "Purpose: Flips a 2D array upside down (i.e., it reverses the order of rows).\n",
    "'''\n",
    "#Example:\n",
    "\n",
    "arr = np.array([[1, 2, 3], [4, 5, 6]])\n",
    "flipud_arr = np.flipud(arr)   "
   ]
  },
  {
   "cell_type": "code",
   "execution_count": 14,
   "id": "2d3284b5-1fcc-44c8-b732-96be29fa20ac",
   "metadata": {},
   "outputs": [
    {
     "name": "stdout",
     "output_type": "stream",
     "text": [
      "[array([1, 2]), array([3, 4]), array([5])]\n"
     ]
    }
   ],
   "source": [
    "#9) Discuss the functionality of the array_split() method in NumPy. How does it handle uneven splits?\n",
    "'''\n",
    "Purpose: Splits an array into multiple sub-arrays. Unlike split(), array_split() can handle uneven splits, meaning the array can be split into sub-arrays of different sizes.\n",
    "'''\n",
    "#Example:\n",
    "arr = np.array([1, 2, 3, 4, 5])\n",
    "split_arr = np.array_split(arr, 3) \n",
    "print(split_arr)"
   ]
  },
  {
   "cell_type": "code",
   "execution_count": 5,
   "id": "95568530-998d-4408-9f1c-57d41ca8f0a1",
   "metadata": {},
   "outputs": [
    {
     "name": "stdout",
     "output_type": "stream",
     "text": [
      "[2 4 6]\n",
      "[[2 3 4]\n",
      " [3 4 5]\n",
      " [4 5 6]]\n"
     ]
    },
    {
     "data": {
      "text/plain": [
       "'\\nContribution to Efficiency:\\n\\nVectorization eliminates explicit loops, resulting in cleaner and faster code.\\nBroadcasting simplifies code by allowing operations between arrays of different shapes without the need to manually reshape or expand arrays, thus improving both development speed and runtime efficiency.\\n'"
      ]
     },
     "execution_count": 5,
     "metadata": {},
     "output_type": "execute_result"
    }
   ],
   "source": [
    "#10. Explain the concepts of vectorization and broadcasting in NumPy. How do they contribute to efficient array operations?\n",
    "'''\n",
    "Concepts of Vectorization and Broadcasting in NumPy\n",
    "Vectorization:\n",
    "\n",
    "Definition: The process of performing operations on entire arrays rather than element-by-element, leading to more concise code and faster execution.\n",
    "'''\n",
    "#Example:\n",
    "import numpy as np\n",
    "\n",
    "arr = np.array([1, 2, 3])\n",
    "result = arr * 2 \n",
    "print(result)\n",
    "\n",
    "'''\n",
    "Broadcasting:\n",
    "\n",
    "Definition: Allows NumPy to perform operations on arrays of different shapes by automatically expanding the smaller array to match the shape of the larger array.\n",
    "'''\n",
    "#Example:\n",
    "arr1 = np.array([1, 2, 3])\n",
    "arr2 = np.array([[1], [2], [3]])\n",
    "result = arr1 + arr2 \n",
    "print(result)\n",
    "'''\n",
    "Contribution to Efficiency:\n",
    "\n",
    "Vectorization eliminates explicit loops, resulting in cleaner and faster code.\n",
    "Broadcasting simplifies code by allowing operations between arrays of different shapes without the need to manually reshape or expand arrays, thus improving both development speed and runtime efficiency.\n",
    "'''"
   ]
  },
  {
   "cell_type": "code",
   "execution_count": 7,
   "id": "4dacd6b4-ebca-49f1-88fc-ee6cb1f2b03b",
   "metadata": {},
   "outputs": [],
   "source": [
    "#Practical Questions:"
   ]
  },
  {
   "cell_type": "code",
   "execution_count": 8,
   "id": "e40bdaac-d02a-423a-b34c-081289639a31",
   "metadata": {},
   "outputs": [
    {
     "name": "stdout",
     "output_type": "stream",
     "text": [
      "Original Array:\n",
      "[[23 70 26]\n",
      " [79 81 59]\n",
      " [75  1 44]]\n",
      "\n",
      "Transposed Array:\n",
      "[[23 79 75]\n",
      " [70 81  1]\n",
      " [26 59 44]]\n"
     ]
    }
   ],
   "source": [
    "#1) Create a 3x3 NumPy array with random integers between 1 and 100. Then, interchange its rows and columns.\n",
    "import numpy as np\n",
    "\n",
    "# Create a 3x3 array with random integers between 1 and 100\n",
    "arr = np.random.randint(1, 101, size=(3, 3))\n",
    "print(\"Original Array:\")\n",
    "print(arr)\n",
    "\n",
    "# Interchange rows and columns (transpose the array)\n",
    "transposed_arr = np.transpose(arr)\n",
    "print(\"\\nTransposed Array:\")\n",
    "print(transposed_arr)"
   ]
  },
  {
   "cell_type": "code",
   "execution_count": 9,
   "id": "12cdcc9e-d869-472f-9295-79bc82c00498",
   "metadata": {},
   "outputs": [
    {
     "name": "stdout",
     "output_type": "stream",
     "text": [
      "1D Array:\n",
      "[0 1 2 3 4 5 6 7 8 9]\n",
      "\n",
      "2x5 Array:\n",
      "[[0 1 2 3 4]\n",
      " [5 6 7 8 9]]\n",
      "\n",
      "5x2 Array:\n",
      "[[0 1]\n",
      " [2 3]\n",
      " [4 5]\n",
      " [6 7]\n",
      " [8 9]]\n"
     ]
    }
   ],
   "source": [
    "#2)  Generate a 1D NumPy array with 10 elements. Reshape it into a 2x5 array, then into a 5x2 array.\n",
    "\n",
    "# Generate a 1D array with 10 elements\n",
    "arr_1d = np.arange(10)\n",
    "print(\"1D Array:\")\n",
    "print(arr_1d)\n",
    "\n",
    "# Reshape the 1D array into a 2x5 array\n",
    "arr_2x5 = arr_1d.reshape(2, 5)\n",
    "print(\"\\n2x5 Array:\")\n",
    "print(arr_2x5)\n",
    "\n",
    "# Reshape the 2x5 array into a 5x2 array\n",
    "arr_5x2 = arr_2x5.reshape(5, 2)\n",
    "print(\"\\n5x2 Array:\")\n",
    "print(arr_5x2)\n"
   ]
  },
  {
   "cell_type": "code",
   "execution_count": 1,
   "id": "91e5e154-6c52-4e97-a689-c4b3cb108e57",
   "metadata": {},
   "outputs": [
    {
     "name": "stdout",
     "output_type": "stream",
     "text": [
      "Original 4x4 Array:\n",
      "[[0.05423849 0.77924676 0.81963494 0.32513748]\n",
      " [0.82993348 0.07799654 0.28036851 0.58224434]\n",
      " [0.56513512 0.97862329 0.55199783 0.87293296]\n",
      " [0.53477788 0.4379881  0.73932957 0.42578271]]\n",
      "\n",
      "6x6 Array with Zero Border:\n",
      "[[0.         0.         0.         0.         0.         0.        ]\n",
      " [0.         0.05423849 0.77924676 0.81963494 0.32513748 0.        ]\n",
      " [0.         0.82993348 0.07799654 0.28036851 0.58224434 0.        ]\n",
      " [0.         0.56513512 0.97862329 0.55199783 0.87293296 0.        ]\n",
      " [0.         0.53477788 0.4379881  0.73932957 0.42578271 0.        ]\n",
      " [0.         0.         0.         0.         0.         0.        ]]\n"
     ]
    }
   ],
   "source": [
    "#3) Create a 4x4 NumPy array with random float values. Add a border of zeros around it, resulting in a 6x6 array.\n",
    "\n",
    "import numpy as np\n",
    "\n",
    "# Create a 4x4 array with random float values\n",
    "arr_4x4 = np.random.rand(4, 4)\n",
    "print(\"Original 4x4 Array:\")\n",
    "print(arr_4x4)\n",
    "\n",
    "# Add a border of zeros around the 4x4 array\n",
    "arr_6x6 = np.pad(arr_4x4, pad_width=1, mode='constant', constant_values=0)\n",
    "print(\"\\n6x6 Array with Zero Border:\")\n",
    "print(arr_6x6)\n"
   ]
  },
  {
   "cell_type": "code",
   "execution_count": 2,
   "id": "13f4902e-227b-4b7d-b588-36a919aeb1e3",
   "metadata": {},
   "outputs": [
    {
     "name": "stdout",
     "output_type": "stream",
     "text": [
      "Array from 10 to 60 with step 5:\n",
      "[10 15 20 25 30 35 40 45 50 55 60]\n"
     ]
    }
   ],
   "source": [
    "#4) Using NumPy, create an array of integers from 10 to 60 with a step of 5.\n",
    "\n",
    "import numpy as np\n",
    "arr = np.arange(10, 65, 5)\n",
    "print(\"Array from 10 to 60 with step 5:\")\n",
    "print(arr)\n"
   ]
  },
  {
   "cell_type": "code",
   "execution_count": 3,
   "id": "7eecf4df-1e7a-412a-b404-636962ad68b8",
   "metadata": {},
   "outputs": [
    {
     "name": "stdout",
     "output_type": "stream",
     "text": [
      "Uppercase:\n",
      "['PYTHON' 'NUMPY' 'PANDAS']\n",
      "\n",
      "Lowercase:\n",
      "['python' 'numpy' 'pandas']\n",
      "\n",
      "Title Case:\n",
      "['Python' 'Numpy' 'Pandas']\n"
     ]
    }
   ],
   "source": [
    "#5)5. Create a NumPy array of strings ['python', 'numpy', 'pandas']. Apply different case transformations\n",
    "#(uppercase, lowercase, title case, etc.) to each element.\n",
    "\n",
    "import numpy as np\n",
    "\n",
    "# Create a NumPy array of strings\n",
    "arr = np.array(['python', 'numpy', 'pandas'])\n",
    "\n",
    "# Apply uppercase transformation\n",
    "upper_arr = np.char.upper(arr)\n",
    "print(\"Uppercase:\")\n",
    "print(upper_arr)\n",
    "\n",
    "# Apply lowercase transformation\n",
    "lower_arr = np.char.lower(arr)\n",
    "print(\"\\nLowercase:\")\n",
    "print(lower_arr)\n",
    "\n",
    "# Apply title case transformation\n",
    "title_arr = np.char.title(arr)\n",
    "print(\"\\nTitle Case:\")\n",
    "print(title_arr)\n"
   ]
  },
  {
   "cell_type": "code",
   "execution_count": 4,
   "id": "cc989daa-2f1c-4979-832c-c7c066211ac0",
   "metadata": {},
   "outputs": [
    {
     "name": "stdout",
     "output_type": "stream",
     "text": [
      "Array with spaces between characters:\n",
      "['p y t h o n' 'n u m p y' 'p a n d a s']\n"
     ]
    }
   ],
   "source": [
    "#6) Generate a NumPy array of words. Insert a space between each character of every word in the array.\n",
    "\n",
    "import numpy as np\n",
    "\n",
    "# Create a NumPy array of words\n",
    "arr = np.array(['python', 'numpy', 'pandas'])\n",
    "\n",
    "# Insert a space between each character of every word\n",
    "spaced_arr = np.char.join(' ', arr)\n",
    "print(\"Array with spaces between characters:\")\n",
    "print(spaced_arr)\n"
   ]
  },
  {
   "cell_type": "code",
   "execution_count": 5,
   "id": "91230de5-20bb-4d97-8f71-1a6e50b5ddde",
   "metadata": {},
   "outputs": [
    {
     "name": "stdout",
     "output_type": "stream",
     "text": [
      "Element-wise Addition:\n",
      "[[ 8 10 12]\n",
      " [14 16 18]]\n",
      "\n",
      "Element-wise Subtraction:\n",
      "[[-6 -6 -6]\n",
      " [-6 -6 -6]]\n",
      "\n",
      "Element-wise Multiplication:\n",
      "[[ 7 16 27]\n",
      " [40 55 72]]\n",
      "\n",
      "Element-wise Division:\n",
      "[[0.14285714 0.25       0.33333333]\n",
      " [0.4        0.45454545 0.5       ]]\n"
     ]
    }
   ],
   "source": [
    "#7)Create two 2D NumPy arrays and perform element-wise addition, subtraction, multiplication, and division.\n",
    "\n",
    "import numpy as np\n",
    "\n",
    "# Create two 2D NumPy arrays\n",
    "array1 = np.array([[1, 2, 3], [4, 5, 6]])\n",
    "array2 = np.array([[7, 8, 9], [10, 11, 12]])\n",
    "\n",
    "# Perform element-wise addition\n",
    "addition = np.add(array1, array2)\n",
    "print(\"Element-wise Addition:\")\n",
    "print(addition)\n",
    "\n",
    "# Perform element-wise subtraction\n",
    "subtraction = np.subtract(array1, array2)\n",
    "print(\"\\nElement-wise Subtraction:\")\n",
    "print(subtraction)\n",
    "\n",
    "# Perform element-wise multiplication\n",
    "multiplication = np.multiply(array1, array2)\n",
    "print(\"\\nElement-wise Multiplication:\")\n",
    "print(multiplication)\n",
    "\n",
    "# Perform element-wise division\n",
    "division = np.divide(array1, array2)\n",
    "print(\"\\nElement-wise Division:\")\n",
    "print(division)\n"
   ]
  },
  {
   "cell_type": "code",
   "execution_count": 6,
   "id": "72ff0b0e-9f33-4b21-9ab1-ab18a7e1549f",
   "metadata": {},
   "outputs": [
    {
     "name": "stdout",
     "output_type": "stream",
     "text": [
      "5x5 Identity Matrix:\n",
      "[[1. 0. 0. 0. 0.]\n",
      " [0. 1. 0. 0. 0.]\n",
      " [0. 0. 1. 0. 0.]\n",
      " [0. 0. 0. 1. 0.]\n",
      " [0. 0. 0. 0. 1.]]\n",
      "\n",
      "Diagonal Elements:\n",
      "[1. 1. 1. 1. 1.]\n"
     ]
    }
   ],
   "source": [
    "#8) Use NumPy to create a 5x5 identity matrix, then extract its diagonal elements.\n",
    "\n",
    "import numpy as np\n",
    "\n",
    "# Create a 5x5 identity matrix\n",
    "identity_matrix = np.eye(5)\n",
    "print(\"5x5 Identity Matrix:\")\n",
    "print(identity_matrix)\n",
    "\n",
    "# Extract the diagonal elements\n",
    "diagonal_elements = np.diag(identity_matrix)\n",
    "print(\"\\nDiagonal Elements:\")\n",
    "print(diagonal_elements)\n"
   ]
  },
  {
   "cell_type": "code",
   "execution_count": 7,
   "id": "0058f758-b03c-4c0f-94be-143c7a0fbee3",
   "metadata": {},
   "outputs": [
    {
     "name": "stdout",
     "output_type": "stream",
     "text": [
      "Array of 100 Random Integers:\n",
      "[981 604 420 541 237 216 287 124 343 654 693  15  93 602 560 737 168 823\n",
      " 291  13 363 522 398 538 754 115 996 980 327   9 332 923 622 303 901  87\n",
      " 903  34  44 639 139 339 642 828 439 265 421 585 435 138 484 442 830 170\n",
      " 607 304 900 829 469 868 607   8 229 879 282 150 647 602 174 108 729  79\n",
      " 945 221 623 131 893 658 577 377 495 692 679 136 123 964  82 488 754 106\n",
      " 910 938 807 526  11 377 948 144 821 306]\n",
      "\n",
      "Prime Numbers in the Array:\n",
      "[541 823  13 139 439 421 607 829 607 229 647  79 131 577  11 821]\n"
     ]
    }
   ],
   "source": [
    "#9) Generate a NumPy array of 100 random integers between 0 and 1000. Find and display all prime numbers in this array.\n",
    "\n",
    "import numpy as np\n",
    "\n",
    "# Function to check if a number is prime\n",
    "def is_prime(n):\n",
    "    if n <= 1:\n",
    "        return False\n",
    "    if n <= 3:\n",
    "        return True\n",
    "    if n % 2 == 0 or n % 3 == 0:\n",
    "        return False\n",
    "    i = 5\n",
    "    while i * i <= n:\n",
    "        if n % i == 0 or n % (i + 2) == 0:\n",
    "            return False\n",
    "        i += 6\n",
    "    return True\n",
    "\n",
    "# Generate a NumPy array of 100 random integers between 0 and 1000\n",
    "random_integers = np.random.randint(0, 1001, size=100)\n",
    "print(\"Array of 100 Random Integers:\")\n",
    "print(random_integers)\n",
    "\n",
    "# Find all prime numbers in the array\n",
    "primes = np.array([num for num in random_integers if is_prime(num)])\n",
    "print(\"\\nPrime Numbers in the Array:\")\n",
    "print(primes)\n"
   ]
  },
  {
   "cell_type": "code",
   "execution_count": 8,
   "id": "54e689cb-11a4-4b46-9539-8f5d5c7bb001",
   "metadata": {},
   "outputs": [
    {
     "name": "stdout",
     "output_type": "stream",
     "text": [
      "Daily Temperatures for the Month:\n",
      "[26 31 35 23 34 27 27 23 34 29 21 27 34 24 38 38 32 22 36 23 27 32 38 20\n",
      " 23 31 39 39 21 21]\n",
      "\n",
      "Weekly Averages:\n",
      "[29.         27.42857143 30.85714286 31.71428571]\n",
      "\n",
      "Average Temperature for the Last Days:\n",
      "21.0\n"
     ]
    }
   ],
   "source": [
    "#10)  Create a NumPy array representing daily temperatures for a month. Calculate and display the weekly averages.\n",
    "\n",
    "import numpy as np\n",
    "\n",
    "daily_temperatures = np.random.randint(20, 40, size=30)\n",
    "print(\"Daily Temperatures for the Month:\")\n",
    "print(daily_temperatures)\n",
    "\n",
    " \n",
    "weeks = daily_temperatures[:28].reshape(4, 7)   \n",
    "last_days = daily_temperatures[28:]   \n",
    "\n",
    "weekly_averages = np.mean(weeks, axis=1)\n",
    "print(\"\\nWeekly Averages:\")\n",
    "print(weekly_averages)\n",
    "\n",
    "if len(last_days) > 0:\n",
    "    last_days_avg = np.mean(last_days)\n",
    "    print(\"\\nAverage Temperature for the Last Days:\")\n",
    "    print(last_days_avg)\n"
   ]
  },
  {
   "cell_type": "code",
   "execution_count": null,
   "id": "0ff857e8-ca5b-450f-a029-87dd60ef6af8",
   "metadata": {},
   "outputs": [],
   "source": []
  }
 ],
 "metadata": {
  "kernelspec": {
   "display_name": "Python 3 (ipykernel)",
   "language": "python",
   "name": "python3"
  },
  "language_info": {
   "codemirror_mode": {
    "name": "ipython",
    "version": 3
   },
   "file_extension": ".py",
   "mimetype": "text/x-python",
   "name": "python",
   "nbconvert_exporter": "python",
   "pygments_lexer": "ipython3",
   "version": "3.10.8"
  }
 },
 "nbformat": 4,
 "nbformat_minor": 5
}
